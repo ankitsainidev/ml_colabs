{
 "cells": [
  {
   "cell_type": "markdown",
   "metadata": {},
   "source": [
    "# HOME CREDIT DEFAULT RISK\n"
   ]
  },
  {
   "cell_type": "markdown",
   "metadata": {},
   "source": [
    "To make the notebook run as expected You'll need to authorize your pc to kaggle\n",
    "For that grab your username and api token and paste them below \n",
    "Make sure to participate in competition named \"Home Credit Default Risk\". So that you'll be allowed to access the data. \n"
   ]
  },
  {
   "cell_type": "code",
   "execution_count": null,
   "metadata": {},
   "outputs": [],
   "source": [
    "kaggle_username = 'paste it here'\n",
    "kaggle_key = 'paste key here'"
   ]
  },
  {
   "cell_type": "markdown",
   "metadata": {},
   "source": [
    "You may need to change the paths structure below as per your os"
   ]
  },
  {
   "cell_type": "code",
   "execution_count": null,
   "metadata": {},
   "outputs": [],
   "source": [
    "import os\n",
    "_n = os.getcwd()\n",
    "if not os.path.isdir('/root/.kaggle'):\n",
    "    os.mkdir('/root/.kaggle')\n",
    "os.chdir('/root/.kaggle')\n",
    "file = open('kaggle.json','w')\n",
    "file.write('{\"username\":\"'+kaggle_username+'\",\"key\":\"'+kaggle_key+'\"}')\n",
    "file.close()\n",
    "os.chdir(_n)"
   ]
  },
  {
   "cell_type": "code",
   "execution_count": 7,
   "metadata": {},
   "outputs": [
    {
     "name": "stdout",
     "output_type": "stream",
     "text": [
      "{\"username\":\"paste it here\",\"key\":\"paste key here\"}\n"
     ]
    }
   ],
   "source": [
    "!kaggle competitions download -c home-credit-default-risk\n",
    "!unzip application_train.csv.zip\n",
    "!unzip application_test.csv.zip\n",
    "!unzip sample_submission.csv.zip"
   ]
  },
  {
   "cell_type": "code",
   "execution_count": null,
   "metadata": {},
   "outputs": [],
   "source": [
    "import pandas as pd \n",
    "import numpy as np "
   ]
  },
  {
   "cell_type": "code",
   "execution_count": null,
   "metadata": {},
   "outputs": [],
   "source": [
    "dataset = pd.read_csv('application_train.csv')\n",
    "X = dataset.iloc[:,2:].values\n",
    "y = dataset.iloc[:,1].values"
   ]
  },
  {
   "cell_type": "markdown",
   "metadata": {},
   "source": [
    "Splitting the dataset to make different kind of feature engineering on them."
   ]
  },
  {
   "cell_type": "code",
   "execution_count": null,
   "metadata": {},
   "outputs": [],
   "source": [
    "X1 = X[:,(0,1,2,3,9,10,11,12,13,26,30,38,84,85,87,88)]\n",
    "X_dataset = pd.DataFrame(X)\n",
    "X2 = X_dataset.drop([0,1,2,3,9,10,11,12,13,26,30,38,84,85,87,88],axis = 1)"
   ]
  },
  {
   "cell_type": "markdown",
   "metadata": {},
   "source": [
    "All the feature engineering and training with a very simple xgboost(Cause machine learning is mostly data cleaning)"
   ]
  },
  {
   "cell_type": "code",
   "execution_count": null,
   "metadata": {},
   "outputs": [],
   "source": [
    "X1 = pd.DataFrame(X1)\n",
    "X1 = X1.fillna('njo')\n",
    "X1 = X1.values\n",
    "X2 = X2.values\n",
    "from sklearn.preprocessing import Imputer\n",
    "imputer = Imputer(axis = 1)\n",
    "X2 = imputer.fit_transform(X2)\n",
    "X_arranged = np.hstack((X1,X2))\n",
    "from sklearn.preprocessing import LabelEncoder, OneHotEncoder\n",
    "labelencoder_X = LabelEncoder()\n",
    "column = 0\n",
    "while (column<16):\n",
    "    X_arranged[:,column] = labelencoder_X.fit_transform(X_arranged[:,column])\n",
    "    column = column + 1\n",
    "onehotencoder = OneHotEncoder(categorical_features = [0,1,2,3,4,5,6,7,8,9,10,11,12,13,14,15])\n",
    "X = onehotencoder.fit_transform(X_arranged).toarray()\n",
    "only = X[0:100,:]\n",
    "#feature scaling\n",
    "print(\"feature scaling\")\n",
    "from sklearn.preprocessing import StandardScaler\n",
    "sc_X = StandardScaler()\n",
    "X = sc_X.fit_transform(X)\n",
    "\n",
    "print(\"regression coming\")\n",
    "from xgboost import XGBClassifier\n",
    "classifier = XGBClassifier()\n",
    "classifier.fit(X,y)\n"
   ]
  },
  {
   "cell_type": "markdown",
   "metadata": {},
   "source": [
    "making the prediction and saving the submission csv file to current directory."
   ]
  },
  {
   "cell_type": "code",
   "execution_count": null,
   "metadata": {},
   "outputs": [],
   "source": [
    "testset = pd.read_csv('application_test.csv')\n",
    "X_test = testset.iloc[:,1:].values\n",
    "X_test1 = X_test[:,(0,1,2,3,9,10,11,12,13,26,30,38,84,85,87,88)]\n",
    "Xtestdataset = pd.DataFrame(X_test)\n",
    "X_test2 = Xtestdataset.drop([0,1,2,3,9,10,11,12,13,26,30,38,84,85,87,88],axis = 1)\n",
    "X_test1 = pd.DataFrame(X_test1)\n",
    "X_test1 = X_test1.fillna('njo')\n",
    "X_test1 = X_test1.values\n",
    "X_test2 = X_test2.values\n",
    "X_test2 = imputer.transform(X_test2)\n",
    "Xtestarranged = np.hstack((X_test1, X_test2))\n",
    "column = 0\n",
    "while (column<16):\n",
    "    Xtestarranged[:,column] = labelencoder_X.fit_transform(Xtestarranged[:,column])\n",
    "    column = column + 1\n",
    "X_testfinal = onehotencoder.transform(Xtestarranged).toarray()\n",
    "X_testfinal = sc_X.transform(X_testfinal)\n",
    "\n"
   ]
  },
  {
   "cell_type": "code",
   "execution_count": null,
   "metadata": {},
   "outputs": [],
   "source": [
    "y_pred = classifier.predict_proba(X_testfinal)\n",
    "samplesub = pd.read_csv('sample_submission.csv')\n",
    "sub = samplesub.values\n",
    "all1 = np.hstack((sub,y_pred))\n",
    "allpd = pd.DataFrame(all1)\n",
    "submitk = allpd.drop([1,2],axis = 1)\n",
    "submitk.columns = [\"SK_ID_CURR\", \"TARGET\"]\n",
    "submitk[['SK_ID_CURR']] = submitk[['SK_ID_CURR']].astype('int')\n",
    "submitk = submitk.drop([],axis=1)\n",
    "submitk.to_csv('submission_file.csv',index=False)\n"
   ]
  },
  {
   "cell_type": "code",
   "execution_count": null,
   "metadata": {},
   "outputs": [],
   "source": []
  }
 ],
 "metadata": {
  "kernelspec": {
   "display_name": "Python 3",
   "language": "python",
   "name": "python3"
  },
  "language_info": {
   "codemirror_mode": {
    "name": "ipython",
    "version": 3
   },
   "file_extension": ".py",
   "mimetype": "text/x-python",
   "name": "python",
   "nbconvert_exporter": "python",
   "pygments_lexer": "ipython3",
   "version": "3.7.5rc1"
  }
 },
 "nbformat": 4,
 "nbformat_minor": 2
}
